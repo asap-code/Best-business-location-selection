{
 "cells": [
  {
   "cell_type": "markdown",
   "metadata": {
    "collapsed": true
   },
   "source": [
    "# Capstone Project – The Battle of neighborhoods (Week1)"
   ]
  },
  {
   "cell_type": "markdown",
   "metadata": {},
   "source": [
    "## A description of the problem and a discussion of the background."
   ]
  },
  {
   "cell_type": "markdown",
   "metadata": {},
   "source": [
    "##### 1 - Description of the problem: \n",
    "\n",
    "People starting new businesses have different requirements and studies to conduct before launching their project. To start a restaurant, people need to find the right place. The definition of right place incorporate different aspects; places with high people density, not flooded with restaurant, and including other facilities that might lead people to think about food. For instance, malls, schools and companies incorporate people doing different activities, yet, all might need to have a meal at a certain point of their day. Doing, the proper research might help the business owner locate contender boroughs in a city where the busines will have much more chances to succeed.\n",
    "\n",
    "##### 2- Business understanding: \n",
    "\n",
    "Given the reality of the targeted business and its success requirements, Can we provide a short list of boroughs to help business owner decide where to start its business?\n",
    "\n",
    "##### 3 - Interested people: \n",
    "\n",
    "This problem is very interesting for all the people deciding to start their own restaurant. This approach can be also adopted for other kind of business like gyms and entertainment services.\n"
   ]
  },
  {
   "cell_type": "markdown",
   "metadata": {},
   "source": [
    "## A description of the data and how it will be used to solve the problem"
   ]
  },
  {
   "cell_type": "markdown",
   "metadata": {},
   "source": [
    "##### Data is the most important element of any data science project, almost 60% of relevancy of any machine learning model is related to the relevancy of the dataset and the different features it incorporates.\n",
    "\n",
    "###### For our use case, the data needed can be summarized as follow: \n",
    "\n",
    "1-\tFor a targeted city, The boroughs and neighborhoods and their corresponding locations.\n",
    "\n",
    "2-\tList of schools and companies for each borough and neighborhood.\n",
    "\n",
    "3-\tList of entertainment venues for each borough and neighbors (Malls, Gyms, gaming rooms …)\n",
    "\n",
    "4-\tList of restaurants for each borough and neighborhood\n",
    "\n",
    "Assuming the guy is willing to open a restaurant in Toronto, we will scrape the data of postal codes of the city of Toronto and get the location of the different boroughs, for each we will use the foursquare to explore the location and get different venues in it. Later, we will filter the venues to extract those that will help us in our analysis such as restaurants, stations, malls and other entertainment facilities that usually attract people.\n",
    "\n",
    "Processing this data, will help us identify subset of boroughs where we have the most of facilities that might lead people to go and eat, this also should be tempered by the number of restaurant in the borough so that you don’t open your business in a place already crowded with restaurants.\n",
    "\n",
    "###### Data sources: \n",
    "1 - Toronto PostCOde: https://en.wikipedia.org/wiki/List_of_postal_codes_of_Canada:_M\n",
    "\n",
    "2 - Foursquare API\n",
    "\n",
    "###### Data usage steps:\n",
    "1 - Location of the targeted city and visualize using map and folium \n",
    "\n",
    "2 - Beautifulsoup and scrap data related to borough and neighboros of the atrgeted city \n",
    "\n",
    "3 - use open dataset to fetch the location of each neighbor \n",
    "\n",
    "4 - Foursquare to explore each neighbor \n",
    "\n",
    "5 - extract usefull venues in neighbor e.g., restourants, hotels, gyms, parks, stores \n",
    "\n",
    "6 - aggregate venues by neighbors and derive scores to highlight the relevancy of the neighbor \n",
    "\n",
    "7 - derive subset of neighbors per borough with the highest prospects\n"
   ]
  }
 ],
 "metadata": {
  "kernelspec": {
   "display_name": "Python 3.7",
   "language": "python",
   "name": "python3"
  },
  "language_info": {
   "codemirror_mode": {
    "name": "ipython",
    "version": 3
   },
   "file_extension": ".py",
   "mimetype": "text/x-python",
   "name": "python",
   "nbconvert_exporter": "python",
   "pygments_lexer": "ipython3",
   "version": "3.7.10"
  }
 },
 "nbformat": 4,
 "nbformat_minor": 1
}
